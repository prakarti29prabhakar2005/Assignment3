{
 "cells": [
  {
   "cell_type": "code",
   "execution_count": null,
   "id": "2d8440f7-19f7-4b70-8878-74918e0501f7",
   "metadata": {},
   "outputs": [],
   "source": [
    "Answer 1:#Which keyword is used to create a function? Create a function to return a list of odd numbers in the range of 1 to 25.\n",
    "def keyword is used to create function\n",
    "def odd():\n",
    "    p=[]\n",
    "    for i in range (1,26):\n",
    "        if(i%2!=0):\n",
    "            p.append(i)\n",
    "    return p"
   ]
  },
  {
   "cell_type": "code",
   "execution_count": null,
   "id": "dec7a7c3-fdf7-4ebe-a298-07eb62b90c18",
   "metadata": {},
   "outputs": [],
   "source": [
    "Answer 2:#Why *args and **kwargs is used in some functions? Create a function each for *args and **kwargsto demonstrate their use.\n",
    "* is used to give n number of parameters in a function and ** is used to give n number of dictionary pairs\n",
    "\n",
    "def concatenate_strings(*args):\n",
    "    result = \"\"\n",
    "    for arg in args:\n",
    "        result += arg\n",
    "    return result\n",
    "print(concatenate_strings(\"Hello\", \" \", \"World\"))\n",
    "\n",
    "def print_person_info(**kwargs):\n",
    "    for key, value in kwargs.items():\n",
    "        print(key + \": \" + value)\n",
    "print_person_info(name=\"John\", age=\"30\", city=\"New York\")\n"
   ]
  },
  {
   "cell_type": "code",
   "execution_count": null,
   "id": "591624a5-c924-4841-8737-03f9fe46a07f",
   "metadata": {},
   "outputs": [],
   "source": [
    "Answer 3:#What is an iterator in python? Name the method used to initialise the iterator object and the method\n",
    "#used for iteration. Use these methods to print the first five elements of the given list [2, 4, 6, 8, 10, 12, 14,16, 18, 20].\n",
    "An iterator in Python is an object that contains a countable number of elements that can be iterated upon.\n",
    "iter() method is used to initialize the iterator object. Methods used for iteration :- _iter_() and _next_()\n",
    "Program:-\n",
    "my_list = [2, 4, 6, 8, 10, 12, 14, 16, 18, 20]\n",
    "my_iterator = iter(my_list)\n",
    "for _ in range(5):\n",
    "    element = next(my_iterator)\n",
    "    print(element)\n"
   ]
  },
  {
   "cell_type": "code",
   "execution_count": null,
   "id": "b9730990-974f-40e9-b1cf-fd86c99199d1",
   "metadata": {},
   "outputs": [],
   "source": [
    "Answer 4:#What is a generator function in python? Why yield keyword is used? Give an example of a generator function.\n",
    "A generator is a function that returns an iterator that produces a sequence of values when iterated over. \n",
    "yield keyword is used to create generator function.\n",
    "example:-\n",
    "def generator_example(n):\n",
    "    value=0\n",
    "    while value<n:\n",
    "        yield value\n",
    "        value+=1\n",
    "for value in generator_example(3):\n",
    "    print(value)"
   ]
  },
  {
   "cell_type": "code",
   "execution_count": null,
   "id": "1903e471-938a-44e3-b2f9-93ed97448303",
   "metadata": {},
   "outputs": [],
   "source": [
    "Answer 5:#Create a generator function for prime numbers less than 1000. Use the next() method to print the\n",
    "#first 20 prime numbers.\n",
    "def next():\n",
    "    for numbers in range(1,21):\n",
    "        count=0\n",
    "        for i in range (2,(number//2+1)):\n",
    "            if(number%i==0):\n",
    "                count=count+1\n",
    "                break\n",
    "        if(count==0 and number!=1):\n",
    "            print(number)\n",
    "            \n",
    "def isPrime(n):\n",
    "    prime=[]\n",
    "    for numbers in range (1,1000):\n",
    "        count=0\n",
    "        for i in range (2,(number//2+1)):\n",
    "            if(number%i==0):\n",
    "                count=count+1\n",
    "                break\n",
    "        if(count==0 and number!=1):\n",
    "            prime.append(number)\n",
    "    next()"
   ]
  },
  {
   "cell_type": "code",
   "execution_count": null,
   "id": "4b83178a-ab46-4716-9eac-d1ba450538f5",
   "metadata": {},
   "outputs": [],
   "source": [
    "Answer 6:#Write a python program to print the first 10 Fibonacci numbers using a while loop.\n",
    "a,b=0,1\n",
    "n=10\n",
    "i=2\n",
    "while(i<=n):\n",
    "    c=a+b\n",
    "    print(c)\n",
    "    a,b=b,c\n",
    "    i=i+1"
   ]
  },
  {
   "cell_type": "code",
   "execution_count": null,
   "id": "9cae7d65-847b-4e15-975a-05a9e59ea2ae",
   "metadata": {},
   "outputs": [],
   "source": [
    "Answer 7:#Write a List Comprehension to iterate through the given string: ‘pwskills’.\n",
    "#Expected output: ['p', 'w', 's', 'k', 'i', 'l', 'l', 's']\n",
    "string=\"pwskills\"\n",
    "[l  for i in string  l=list(i)]"
   ]
  },
  {
   "cell_type": "code",
   "execution_count": null,
   "id": "7725eb45-6bec-4352-b87b-11d454eeb028",
   "metadata": {},
   "outputs": [],
   "source": [
    "Answer 8:#Write a python program to check whether a given number is Palindrome or not using a while loop.\n",
    "number=int(input(\"Enter number:\"))\n",
    "dummy=number\n",
    "rev=0\n",
    "while(dummy!=0):\n",
    "    q=dummy%10\n",
    "    rev=rev*10+q\n",
    "    dummy=dummy/10\n",
    "if(rev==number):\n",
    "    print(\"The entered number is palindrome\")\n",
    "else:\n",
    "    print(\"not palindrome\")"
   ]
  },
  {
   "cell_type": "code",
   "execution_count": null,
   "id": "4addad90-5ea8-4998-ba15-3ffed10a1971",
   "metadata": {},
   "outputs": [],
   "source": [
    "Answer 9:#Write a code to print odd numbers from 1 to 100 using list comprehension.\n",
    "#Note: Use a list comprehension to create a list from 1 to 100 and use another List comprehension to filter\n",
    "#out odd numbers.\n",
    "l=[1,5,2,8,5,4,9,10,22,27]\n",
    "[i  for i in l  l%2!=0]"
   ]
  }
 ],
 "metadata": {
  "kernelspec": {
   "display_name": "Python 3 (ipykernel)",
   "language": "python",
   "name": "python3"
  },
  "language_info": {
   "codemirror_mode": {
    "name": "ipython",
    "version": 3
   },
   "file_extension": ".py",
   "mimetype": "text/x-python",
   "name": "python",
   "nbconvert_exporter": "python",
   "pygments_lexer": "ipython3",
   "version": "3.10.8"
  }
 },
 "nbformat": 4,
 "nbformat_minor": 5
}
